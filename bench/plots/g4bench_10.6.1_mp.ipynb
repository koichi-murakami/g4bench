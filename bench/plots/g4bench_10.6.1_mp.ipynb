{
 "cells": [
  {
   "cell_type": "markdown",
   "metadata": {},
   "source": [
    "## G4Bench benchmark results\n",
    "Geant4 : v10.6.1 Sequencial-mode"
   ]
  },
  {
   "cell_type": "code",
   "execution_count": 1,
   "metadata": {},
   "outputs": [],
   "source": [
    "import pandas\n",
    "import json\n",
    "import os"
   ]
  },
  {
   "cell_type": "code",
   "execution_count": 2,
   "metadata": {},
   "outputs": [
    {
     "data": {
      "text/plain": [
       "['amd_epyc_7501',\n",
       " 'xeon_e5_2690',\n",
       " 'xeon_gold_6142',\n",
       " 'xeon_gold_6148',\n",
       " 'xeon_gold_6240',\n",
       " 'xeon_x5680']"
      ]
     },
     "execution_count": 2,
     "metadata": {},
     "output_type": "execute_result"
    }
   ],
   "source": [
    "data_dir = \"./data/10.6.1/\"\n",
    "cpu_list = os.listdir(data_dir)\n",
    "cpu_list"
   ]
  },
  {
   "cell_type": "code",
   "execution_count": 3,
   "metadata": {},
   "outputs": [],
   "source": [
    "ecal_df = pandas.DataFrame(columns = ['CPU', 'Time', 'Init', 'TPE', 'EPS', 'SPS', 'Edep'])\n",
    "hcal_df = pandas.DataFrame(columns = ['CPU', 'Time', 'Init', 'TPE', 'EPS', 'SPS', 'Edep'])\n",
    "vgeo_x18_df = pandas.DataFrame(columns = ['CPU', 'Time', 'Init', 'TPE', 'EPS', 'SPS', 'Edep'])\n",
    "vgeo_e20_df = pandas.DataFrame(columns = ['CPU', 'Time', 'Init', 'TPE', 'EPS', 'SPS', 'Edep'])"
   ]
  },
  {
   "cell_type": "markdown",
   "metadata": {},
   "source": [
    "### ecal e1000 benchmark"
   ]
  },
  {
   "cell_type": "code",
   "execution_count": 4,
   "metadata": {},
   "outputs": [
    {
     "ename": "FileNotFoundError",
     "evalue": "[Errno 2] No such file or directory: './data/10.6.1amd_epyc_7501/ecal.json'",
     "output_type": "error",
     "traceback": [
      "\u001b[0;31m---------------------------------------------------------------------------\u001b[0m",
      "\u001b[0;31mFileNotFoundError\u001b[0m                         Traceback (most recent call last)",
      "\u001b[0;32m<ipython-input-4-263a21811da4>\u001b[0m in \u001b[0;36m<module>\u001b[0;34m\u001b[0m\n\u001b[1;32m      1\u001b[0m \u001b[0midata\u001b[0m \u001b[0;34m=\u001b[0m \u001b[0;36m0\u001b[0m\u001b[0;34m\u001b[0m\u001b[0;34m\u001b[0m\u001b[0m\n\u001b[1;32m      2\u001b[0m \u001b[0;32mfor\u001b[0m \u001b[0mcpu\u001b[0m \u001b[0;32min\u001b[0m \u001b[0mcpu_list\u001b[0m\u001b[0;34m:\u001b[0m\u001b[0;34m\u001b[0m\u001b[0;34m\u001b[0m\u001b[0m\n\u001b[0;32m----> 3\u001b[0;31m     \u001b[0mjson_file\u001b[0m \u001b[0;34m=\u001b[0m \u001b[0mopen\u001b[0m\u001b[0;34m(\u001b[0m\u001b[0mdata_dir\u001b[0m \u001b[0;34m+\u001b[0m \u001b[0mcpu\u001b[0m \u001b[0;34m+\u001b[0m \u001b[0;34m\"/ecal.json\"\u001b[0m\u001b[0;34m,\u001b[0m \u001b[0;34m'r'\u001b[0m\u001b[0;34m)\u001b[0m\u001b[0;34m\u001b[0m\u001b[0;34m\u001b[0m\u001b[0m\n\u001b[0m\u001b[1;32m      4\u001b[0m     \u001b[0mjobj\u001b[0m \u001b[0;34m=\u001b[0m \u001b[0mjson\u001b[0m\u001b[0;34m.\u001b[0m\u001b[0mload\u001b[0m\u001b[0;34m(\u001b[0m\u001b[0mjson_file\u001b[0m\u001b[0;34m)\u001b[0m\u001b[0;34m\u001b[0m\u001b[0;34m\u001b[0m\u001b[0m\n\u001b[1;32m      5\u001b[0m     \u001b[0mecal_df\u001b[0m\u001b[0;34m.\u001b[0m\u001b[0mloc\u001b[0m\u001b[0;34m[\u001b[0m\u001b[0midata\u001b[0m\u001b[0;34m]\u001b[0m \u001b[0;34m=\u001b[0m \u001b[0;34m[\u001b[0m\u001b[0mjobj\u001b[0m\u001b[0;34m[\u001b[0m\u001b[0;34m'cpu'\u001b[0m\u001b[0;34m]\u001b[0m\u001b[0;34m,\u001b[0m \u001b[0mjobj\u001b[0m\u001b[0;34m[\u001b[0m\u001b[0;34m'time'\u001b[0m\u001b[0;34m]\u001b[0m\u001b[0;34m,\u001b[0m \u001b[0mjobj\u001b[0m\u001b[0;34m[\u001b[0m\u001b[0;34m'init'\u001b[0m\u001b[0;34m]\u001b[0m\u001b[0;34m,\u001b[0m \u001b[0mjobj\u001b[0m\u001b[0;34m[\u001b[0m\u001b[0;34m'tpe'\u001b[0m\u001b[0;34m]\u001b[0m\u001b[0;34m,\u001b[0m \u001b[0mjobj\u001b[0m\u001b[0;34m[\u001b[0m\u001b[0;34m'eps'\u001b[0m\u001b[0;34m]\u001b[0m\u001b[0;34m,\u001b[0m \u001b[0mjobj\u001b[0m\u001b[0;34m[\u001b[0m\u001b[0;34m'sps'\u001b[0m\u001b[0;34m]\u001b[0m\u001b[0;34m,\u001b[0m\u001b[0mjobj\u001b[0m\u001b[0;34m[\u001b[0m\u001b[0;34m'edep'\u001b[0m\u001b[0;34m]\u001b[0m\u001b[0;34m]\u001b[0m\u001b[0;34m\u001b[0m\u001b[0;34m\u001b[0m\u001b[0m\n",
      "\u001b[0;31mFileNotFoundError\u001b[0m: [Errno 2] No such file or directory: './data/10.6.1amd_epyc_7501/ecal.json'"
     ]
    }
   ],
   "source": [
    "idata = 0\n",
    "for cpu in cpu_list:\n",
    "    json_file = open(data_dir + cpu + \"/ecal.json\", 'r')\n",
    "    jobj = json.load(json_file)\n",
    "    ecal_df.loc[idata] = [jobj['cpu'], jobj['time'], jobj['init'], jobj['tpe'], jobj['eps'], jobj['sps'],jobj['edep']]\n",
    "    idata = idata + 1"
   ]
  },
  {
   "cell_type": "code",
   "execution_count": null,
   "metadata": {},
   "outputs": [],
   "source": [
    "ecal_df_sorted = ecal_df.sort_values('SPS')\n",
    "ecal_df_sorted.reset_index(drop=True, inplace=True)\n",
    "ecal_df_sorted"
   ]
  },
  {
   "cell_type": "code",
   "execution_count": null,
   "metadata": {},
   "outputs": [],
   "source": [
    "import matplotlib.pyplot as plt"
   ]
  },
  {
   "cell_type": "code",
   "execution_count": null,
   "metadata": {},
   "outputs": [],
   "source": [
    "plt.rcdefaults()\n",
    "fig, ecal_plot = plt.subplots(figsize=(12,6))\n",
    "ecal_plot.barh(ecal_df_sorted['CPU'], ecal_df_sorted['SPS'], align='center')\n",
    "ecal_plot.set_title('Ecal e1000')\n",
    "ecal_plot.set_xlabel('SPS (Seconds/Step)')\n",
    "nplots = len(ecal_df_sorted)\n",
    "for iy in range(0,nplots) :\n",
    "  xpos = ecal_df_sorted['SPS'][iy] * 0.6\n",
    "  plt.text(xpos, iy, ecal_df_sorted['SPS'][iy], verticalalignment='center', color='white')\n",
    "plt.show()"
   ]
  },
  {
   "cell_type": "markdown",
   "metadata": {},
   "source": [
    "### hcal p10 benchmark"
   ]
  },
  {
   "cell_type": "code",
   "execution_count": null,
   "metadata": {},
   "outputs": [],
   "source": [
    "idata = 0\n",
    "for cpu in cpu_list:\n",
    "    json_file = open(data_dir + cpu + \"/hcal.json\", 'r')\n",
    "    jobj = json.load(json_file)\n",
    "    hcal_df.loc[idata] = [jobj['cpu'], jobj['time'], jobj['init'], jobj['tpe'], jobj['eps'], jobj['sps'],jobj['edep']]\n",
    "    idata = idata + 1"
   ]
  },
  {
   "cell_type": "code",
   "execution_count": null,
   "metadata": {},
   "outputs": [],
   "source": [
    "hcal_df_sorted = hcal_df.sort_values('SPS')\n",
    "hcal_df_sorted.reset_index(drop=True, inplace=True)\n",
    "hcal_df_sorted"
   ]
  },
  {
   "cell_type": "code",
   "execution_count": null,
   "metadata": {},
   "outputs": [],
   "source": [
    "plt.rcdefaults()\n",
    "fig, hcal_plot = plt.subplots(figsize=(12,6))\n",
    "hcal_plot.barh(hcal_df_sorted['CPU'], hcal_df_sorted['SPS'], align='center', color='coral')\n",
    "hcal_plot.set_title('Hcal p10')\n",
    "hcal_plot.set_xlabel('SPS (Seconds/Step)')\n",
    "nplots = len(hcal_df_sorted)\n",
    "for iy in range(0,nplots) :\n",
    "  xpos = hcal_df_sorted['SPS'][iy] * 0.6\n",
    "  plt.text(xpos, iy, hcal_df_sorted['SPS'][iy], verticalalignment='center', color='white')\n",
    "plt.show()"
   ]
  },
  {
   "cell_type": "markdown",
   "metadata": {},
   "source": [
    "### vgeo x18 benchmark"
   ]
  },
  {
   "cell_type": "code",
   "execution_count": null,
   "metadata": {},
   "outputs": [],
   "source": [
    "idata = 0\n",
    "for cpu in cpu_list:\n",
    "    json_file = open(data_dir + cpu + \"/vgeo_x18.json\", 'r')\n",
    "    jobj = json.load(json_file)\n",
    "    vgeo_x18_df.loc[idata] = [jobj['cpu'], jobj['time'], jobj['init'], jobj['tpe'], jobj['eps'], jobj['sps'],jobj['edep']]\n",
    "    idata = idata + 1"
   ]
  },
  {
   "cell_type": "code",
   "execution_count": null,
   "metadata": {},
   "outputs": [],
   "source": [
    "vgeo_x18_df_sorted = vgeo_x18_df.sort_values('SPS')\n",
    "vgeo_x18_df_sorted.reset_index(drop=True, inplace=True)\n",
    "vgeo_x18_df_sorted"
   ]
  },
  {
   "cell_type": "code",
   "execution_count": null,
   "metadata": {},
   "outputs": [],
   "source": [
    "plt.rcdefaults()\n",
    "fig, x18_plot = plt.subplots(figsize=(12,6))\n",
    "x18_plot.barh(vgeo_x18_df_sorted['CPU'], vgeo_x18_df_sorted['SPS'], align='center', color='mediumblue')\n",
    "x18_plot.set_title('Vgeo x18')\n",
    "x18_plot.set_xlabel('SPS (Seconds/Step)')\n",
    "nplots = len(vgeo_x18_df_sorted)\n",
    "for iy in range(0,nplots) :\n",
    "  xpos = vgeo_x18_df_sorted['SPS'][iy] * 0.6\n",
    "  plt.text(xpos, iy, vgeo_x18_df_sorted['SPS'][iy], verticalalignment='center', color='white')\n",
    "plt.show()"
   ]
  },
  {
   "cell_type": "markdown",
   "metadata": {},
   "source": [
    "### vgeo e20 benchmark"
   ]
  },
  {
   "cell_type": "code",
   "execution_count": null,
   "metadata": {},
   "outputs": [],
   "source": [
    "idata = 0\n",
    "for cpu in cpu_list:\n",
    "    json_file = open(data_dir + cpu + \"/vgeo_e20.json\", 'r')\n",
    "    jobj = json.load(json_file)\n",
    "    vgeo_e20_df.loc[idata] = [jobj['cpu'], jobj['time'], jobj['init'], jobj['tpe'], jobj['eps'], jobj['sps'],jobj['edep']]\n",
    "    idata = idata + 1"
   ]
  },
  {
   "cell_type": "code",
   "execution_count": null,
   "metadata": {},
   "outputs": [],
   "source": [
    "vgeo_e20_df_sorted = vgeo_e20_df.sort_values('SPS')\n",
    "vgeo_e20_df_sorted.reset_index(drop=True, inplace=True)\n",
    "vgeo_e20_df_sorted"
   ]
  },
  {
   "cell_type": "code",
   "execution_count": null,
   "metadata": {},
   "outputs": [],
   "source": [
    "plt.rcdefaults()\n",
    "fig, e20_plot = plt.subplots(figsize=(12,6))\n",
    "e20_plot.barh(vgeo_x18_df_sorted['CPU'], vgeo_e20_df_sorted['SPS'], align='center', color='limegreen')\n",
    "e20_plot.set_title('Vgeo e20')\n",
    "e20_plot.set_xlabel('SPS (Seconds/Step)')\n",
    "nplots = len(vgeo_e20_df_sorted)\n",
    "for iy in range(0,nplots) :\n",
    "  xpos = vgeo_e20_df_sorted['SPS'][iy] * 0.6\n",
    "  plt.text(xpos, iy, vgeo_e20_df_sorted['SPS'][iy], verticalalignment='center', color='white')\n",
    "plt.show()"
   ]
  },
  {
   "cell_type": "code",
   "execution_count": null,
   "metadata": {},
   "outputs": [],
   "source": []
  }
 ],
 "metadata": {
  "kernelspec": {
   "display_name": "Python 3",
   "language": "python",
   "name": "python3"
  },
  "language_info": {
   "codemirror_mode": {
    "name": "ipython",
    "version": 3
   },
   "file_extension": ".py",
   "mimetype": "text/x-python",
   "name": "python",
   "nbconvert_exporter": "python",
   "pygments_lexer": "ipython3",
   "version": "3.7.6"
  }
 },
 "nbformat": 4,
 "nbformat_minor": 4
}
